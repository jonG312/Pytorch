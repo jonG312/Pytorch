{
 "cells": [
  {
   "cell_type": "markdown",
   "id": "9803351c",
   "metadata": {},
   "source": [
    "PyTorch has two primitives to work with data: torch.utils.data.DataLoader and torch.utils.data.Dataset. Dataset stores the samples and their corresponding labels, and DataLoader wraps an iterable around the Dataset."
   ]
  },
  {
   "cell_type": "markdown",
   "id": "9f9a32a9",
   "metadata": {},
   "source": [
    "PyTorch offers domain-specific libraries such as TorchText, TorchVision, and TorchAudio, all of which include datasets."
   ]
  },
  {
   "cell_type": "code",
   "execution_count": 3,
   "id": "24a1c63e",
   "metadata": {},
   "outputs": [],
   "source": [
    "import torch\n",
    "from torch import nn\n",
    "from torch.utils.data import DataLoader\n",
    "from torchvision import datasets\n",
    "from torchvision.transforms import ToTensor"
   ]
  },
  {
   "cell_type": "markdown",
   "id": "a220c3f1",
   "metadata": {},
   "source": [
    "The `torchvision.datasets` module contains `Dataset` objects for many real-world vision data like CIFAR, COCO (full list here). in this example is implement the FGVCAircraft dataset. Every TorchVision Dataset includes two arguments: transform and target_transform to modify the samples and labels respectively."
   ]
  },
  {
   "cell_type": "code",
   "execution_count": 5,
   "id": "ab93452e",
   "metadata": {},
   "outputs": [
    {
     "name": "stdout",
     "output_type": "stream",
     "text": [
      "Downloading http://fashion-mnist.s3-website.eu-central-1.amazonaws.com/train-images-idx3-ubyte.gz\n",
      "Downloading http://fashion-mnist.s3-website.eu-central-1.amazonaws.com/train-images-idx3-ubyte.gz to data\\FashionMNIST\\raw\\train-images-idx3-ubyte.gz\n"
     ]
    },
    {
     "data": {
      "application/vnd.jupyter.widget-view+json": {
       "model_id": "da1bab44a09a4cc495c5c22acb8a9d32",
       "version_major": 2,
       "version_minor": 0
      },
      "text/plain": [
       "  0%|          | 0/26421880 [00:00<?, ?it/s]"
      ]
     },
     "metadata": {},
     "output_type": "display_data"
    },
    {
     "name": "stdout",
     "output_type": "stream",
     "text": [
      "Extracting data\\FashionMNIST\\raw\\train-images-idx3-ubyte.gz to data\\FashionMNIST\\raw\n",
      "\n",
      "Downloading http://fashion-mnist.s3-website.eu-central-1.amazonaws.com/train-labels-idx1-ubyte.gz\n",
      "Downloading http://fashion-mnist.s3-website.eu-central-1.amazonaws.com/train-labels-idx1-ubyte.gz to data\\FashionMNIST\\raw\\train-labels-idx1-ubyte.gz\n"
     ]
    },
    {
     "data": {
      "application/vnd.jupyter.widget-view+json": {
       "model_id": "5b0208a4112f40faa4b8fc1836df2331",
       "version_major": 2,
       "version_minor": 0
      },
      "text/plain": [
       "  0%|          | 0/29515 [00:00<?, ?it/s]"
      ]
     },
     "metadata": {},
     "output_type": "display_data"
    },
    {
     "name": "stdout",
     "output_type": "stream",
     "text": [
      "Extracting data\\FashionMNIST\\raw\\train-labels-idx1-ubyte.gz to data\\FashionMNIST\\raw\n",
      "\n",
      "Downloading http://fashion-mnist.s3-website.eu-central-1.amazonaws.com/t10k-images-idx3-ubyte.gz\n",
      "Downloading http://fashion-mnist.s3-website.eu-central-1.amazonaws.com/t10k-images-idx3-ubyte.gz to data\\FashionMNIST\\raw\\t10k-images-idx3-ubyte.gz\n"
     ]
    },
    {
     "data": {
      "application/vnd.jupyter.widget-view+json": {
       "model_id": "cc935d29cbea4b70ad625acaadc7f658",
       "version_major": 2,
       "version_minor": 0
      },
      "text/plain": [
       "  0%|          | 0/4422102 [00:00<?, ?it/s]"
      ]
     },
     "metadata": {},
     "output_type": "display_data"
    },
    {
     "name": "stdout",
     "output_type": "stream",
     "text": [
      "Extracting data\\FashionMNIST\\raw\\t10k-images-idx3-ubyte.gz to data\\FashionMNIST\\raw\n",
      "\n",
      "Downloading http://fashion-mnist.s3-website.eu-central-1.amazonaws.com/t10k-labels-idx1-ubyte.gz\n",
      "Downloading http://fashion-mnist.s3-website.eu-central-1.amazonaws.com/t10k-labels-idx1-ubyte.gz to data\\FashionMNIST\\raw\\t10k-labels-idx1-ubyte.gz\n"
     ]
    },
    {
     "data": {
      "application/vnd.jupyter.widget-view+json": {
       "model_id": "5e188306ec394ff68371400449b78ce1",
       "version_major": 2,
       "version_minor": 0
      },
      "text/plain": [
       "  0%|          | 0/5148 [00:00<?, ?it/s]"
      ]
     },
     "metadata": {},
     "output_type": "display_data"
    },
    {
     "name": "stdout",
     "output_type": "stream",
     "text": [
      "Extracting data\\FashionMNIST\\raw\\t10k-labels-idx1-ubyte.gz to data\\FashionMNIST\\raw\n",
      "\n"
     ]
    }
   ],
   "source": [
    "# Download training data from open datasets.\n",
    "training_data = datasets.FashionMNIST(\n",
    "    root=\"data\",\n",
    "    train=True,\n",
    "    download=True,\n",
    "    transform=ToTensor(),\n",
    ")\n",
    "\n",
    "# Download test data from open datasets.\n",
    "test_data = datasets.FashionMNIST(\n",
    "    root=\"data\",\n",
    "    train=False,\n",
    "    download=True,\n",
    "    transform=ToTensor(),\n",
    ")"
   ]
  },
  {
   "cell_type": "markdown",
   "id": "6f762cb1",
   "metadata": {},
   "source": [
    "We pass the `Dataset` as an argument to `DataLoader`. This wraps an iterable over our dataset, and supports automatic batching, sampling, shuffling and multiprocess data loading. Here we define a batch size of 64, i.e. each element in the dataloader iterable will return a batch of 64 features and labels."
   ]
  },
  {
   "cell_type": "code",
   "execution_count": 6,
   "id": "56a1b652",
   "metadata": {},
   "outputs": [
    {
     "name": "stdout",
     "output_type": "stream",
     "text": [
      "Shape of X [N, C, H, W]: torch.Size([64, 1, 28, 28])\n",
      "Shape of y: torch.Size([64]) torch.int64\n"
     ]
    }
   ],
   "source": [
    "batch_size = 64\n",
    "\n",
    "# Create data loaders.\n",
    "train_dataloader = DataLoader(training_data, batch_size=batch_size)\n",
    "test_dataloader = DataLoader(test_data, batch_size=batch_size)\n",
    "\n",
    "for X, y in test_dataloader:\n",
    "    print(f\"Shape of X [N, C, H, W]: {X.shape}\")\n",
    "    print(f\"Shape of y: {y.shape} {y.dtype}\")\n",
    "    break"
   ]
  },
  {
   "cell_type": "markdown",
   "id": "c0419d22",
   "metadata": {},
   "source": [
    "#Creating Models"
   ]
  },
  {
   "cell_type": "markdown",
   "id": "8af524dd",
   "metadata": {},
   "source": [
    "To define a neural network in PyTorch, we create a class that inherits from nn.Module. We define the layers of the network in the __init__ function and specify how data will pass through the network in the forward function. To accelerate operations in the neural network, we move it to the GPU or MPS if available."
   ]
  },
  {
   "cell_type": "code",
   "execution_count": 7,
   "id": "919d2b79",
   "metadata": {},
   "outputs": [
    {
     "name": "stdout",
     "output_type": "stream",
     "text": [
      "Using cuda device\n",
      "NeuralNetwork(\n",
      "  (flatten): Flatten(start_dim=1, end_dim=-1)\n",
      "  (linear_relu_stack): Sequential(\n",
      "    (0): Linear(in_features=784, out_features=512, bias=True)\n",
      "    (1): ReLU()\n",
      "    (2): Linear(in_features=512, out_features=512, bias=True)\n",
      "    (3): ReLU()\n",
      "    (4): Linear(in_features=512, out_features=10, bias=True)\n",
      "  )\n",
      ")\n"
     ]
    }
   ],
   "source": [
    "# Get cpu, gpu or mps device for training.\n",
    "device = (\n",
    "    \"cuda\"\n",
    "    if torch.cuda.is_available()\n",
    "    else \"mps\"\n",
    "    if torch.backends.mps.is_available()\n",
    "    else \"cpu\"\n",
    ")\n",
    "print(f\"Using {device} device\")\n",
    "\n",
    "# Define model\n",
    "class NeuralNetwork(nn.Module):\n",
    "    def __init__(self):\n",
    "        super().__init__()\n",
    "        self.flatten = nn.Flatten()\n",
    "        self.linear_relu_stack = nn.Sequential(\n",
    "            nn.Linear(28*28, 512),\n",
    "            nn.ReLU(),\n",
    "            nn.Linear(512, 512),\n",
    "            nn.ReLU(),\n",
    "            nn.Linear(512, 10)\n",
    "        )\n",
    "\n",
    "    def forward(self, x):\n",
    "        x = self.flatten(x)\n",
    "        logits = self.linear_relu_stack(x)\n",
    "        return logits\n",
    "\n",
    "model = NeuralNetwork().to(device)\n",
    "print(model)"
   ]
  },
  {
   "cell_type": "markdown",
   "id": "98662cae",
   "metadata": {},
   "source": [
    "#Optimizing the Model Parameters"
   ]
  },
  {
   "cell_type": "markdown",
   "id": "e36ca2c7",
   "metadata": {},
   "source": [
    "To train a model, we need a loss function and an optimizer."
   ]
  },
  {
   "cell_type": "code",
   "execution_count": 9,
   "id": "56f502fc",
   "metadata": {},
   "outputs": [],
   "source": [
    "loss_fn = nn.CrossEntropyLoss()\n",
    "optimizer = torch.optim.SGD(model.parameters(), lr=1e-3)"
   ]
  },
  {
   "cell_type": "markdown",
   "id": "568da234",
   "metadata": {},
   "source": [
    "In a single training loop, the model makes predictions on the training dataset (fed to it in batches), and backpropagates the prediction error to adjust the model’s parameters."
   ]
  },
  {
   "cell_type": "code",
   "execution_count": 10,
   "id": "82772ae5",
   "metadata": {},
   "outputs": [],
   "source": [
    "def train(dataloader, model, loss_fn, optimizer):\n",
    "    size = len(dataloader.dataset)\n",
    "    model.train()\n",
    "    for batch, (X, y) in enumerate(dataloader):\n",
    "        X, y = X.to(device), y.to(device)\n",
    "\n",
    "        # Compute prediction error\n",
    "        pred = model(X)\n",
    "        loss = loss_fn(pred, y)\n",
    "\n",
    "        # Backpropagation\n",
    "        loss.backward()\n",
    "        optimizer.step()\n",
    "        optimizer.zero_grad()\n",
    "\n",
    "        if batch % 100 == 0:\n",
    "            loss, current = loss.item(), (batch + 1) * len(X)\n",
    "            print(f\"loss: {loss:>7f}  [{current:>5d}/{size:>5d}]\")"
   ]
  },
  {
   "cell_type": "markdown",
   "id": "182f86b6",
   "metadata": {},
   "source": [
    "We also check the model’s performance against the test dataset to ensure it is learning."
   ]
  },
  {
   "cell_type": "code",
   "execution_count": 11,
   "id": "6d59ac89",
   "metadata": {},
   "outputs": [],
   "source": [
    "def test(dataloader, model, loss_fn):\n",
    "    size = len(dataloader.dataset)\n",
    "    num_batches = len(dataloader)\n",
    "    model.eval()\n",
    "    test_loss, correct = 0, 0\n",
    "    with torch.no_grad():\n",
    "        for X, y in dataloader:\n",
    "            X, y = X.to(device), y.to(device)\n",
    "            pred = model(X)\n",
    "            test_loss += loss_fn(pred, y).item()\n",
    "            correct += (pred.argmax(1) == y).type(torch.float).sum().item()\n",
    "    test_loss /= num_batches\n",
    "    correct /= size\n",
    "    print(f\"Test Error: \\n Accuracy: {(100*correct):>0.1f}%, Avg loss: {test_loss:>8f} \\n\")"
   ]
  },
  {
   "cell_type": "markdown",
   "id": "26a52c98",
   "metadata": {},
   "source": [
    "The training process is conducted over several iterations (epochs). During each epoch, the model learns parameters to make better predictions. We print the model’s accuracy and loss at each epoch; we’d like to see the accuracy increase and the loss decrease with every epoch."
   ]
  },
  {
   "cell_type": "code",
   "execution_count": 13,
   "id": "4ac48301",
   "metadata": {},
   "outputs": [
    {
     "name": "stdout",
     "output_type": "stream",
     "text": [
      "Epoch 1\n",
      "-------------------------------\n",
      "loss: 1.138490  [   64/60000]\n",
      "loss: 1.135146  [ 6464/60000]\n",
      "loss: 0.961674  [12864/60000]\n",
      "loss: 1.098670  [19264/60000]\n",
      "loss: 0.971702  [25664/60000]\n",
      "loss: 0.998448  [32064/60000]\n",
      "loss: 1.041859  [38464/60000]\n",
      "loss: 0.991777  [44864/60000]\n",
      "loss: 1.031904  [51264/60000]\n",
      "loss: 0.952392  [57664/60000]\n",
      "Test Error: \n",
      " Accuracy: 66.2%, Avg loss: 0.968153 \n",
      "\n",
      "Epoch 2\n",
      "-------------------------------\n",
      "loss: 1.018221  [   64/60000]\n",
      "loss: 1.036232  [ 6464/60000]\n",
      "loss: 0.847323  [12864/60000]\n",
      "loss: 1.007006  [19264/60000]\n",
      "loss: 0.884415  [25664/60000]\n",
      "loss: 0.907204  [32064/60000]\n",
      "loss: 0.965358  [38464/60000]\n",
      "loss: 0.920192  [44864/60000]\n",
      "loss: 0.956015  [51264/60000]\n",
      "loss: 0.887610  [57664/60000]\n",
      "Test Error: \n",
      " Accuracy: 67.3%, Avg loss: 0.897317 \n",
      "\n",
      "Epoch 3\n",
      "-------------------------------\n",
      "loss: 0.930661  [   64/60000]\n",
      "loss: 0.968605  [ 6464/60000]\n",
      "loss: 0.766641  [12864/60000]\n",
      "loss: 0.943508  [19264/60000]\n",
      "loss: 0.827224  [25664/60000]\n",
      "loss: 0.842010  [32064/60000]\n",
      "loss: 0.911448  [38464/60000]\n",
      "loss: 0.872818  [44864/60000]\n",
      "loss: 0.901815  [51264/60000]\n",
      "loss: 0.841978  [57664/60000]\n",
      "Test Error: \n",
      " Accuracy: 68.4%, Avg loss: 0.846972 \n",
      "\n",
      "Epoch 4\n",
      "-------------------------------\n",
      "loss: 0.864001  [   64/60000]\n",
      "loss: 0.919024  [ 6464/60000]\n",
      "loss: 0.707034  [12864/60000]\n",
      "loss: 0.897042  [19264/60000]\n",
      "loss: 0.787120  [25664/60000]\n",
      "loss: 0.793601  [32064/60000]\n",
      "loss: 0.870726  [38464/60000]\n",
      "loss: 0.840002  [44864/60000]\n",
      "loss: 0.861512  [51264/60000]\n",
      "loss: 0.807451  [57664/60000]\n",
      "Test Error: \n",
      " Accuracy: 69.8%, Avg loss: 0.809172 \n",
      "\n",
      "Epoch 5\n",
      "-------------------------------\n",
      "loss: 0.811093  [   64/60000]\n",
      "loss: 0.879912  [ 6464/60000]\n",
      "loss: 0.660973  [12864/60000]\n",
      "loss: 0.861724  [19264/60000]\n",
      "loss: 0.757106  [25664/60000]\n",
      "loss: 0.756420  [32064/60000]\n",
      "loss: 0.838164  [38464/60000]\n",
      "loss: 0.815785  [44864/60000]\n",
      "loss: 0.830085  [51264/60000]\n",
      "loss: 0.779859  [57664/60000]\n",
      "Test Error: \n",
      " Accuracy: 71.2%, Avg loss: 0.779233 \n",
      "\n",
      "Epoch 6\n",
      "-------------------------------\n",
      "loss: 0.767329  [   64/60000]\n",
      "loss: 0.847299  [ 6464/60000]\n",
      "loss: 0.623977  [12864/60000]\n",
      "loss: 0.833695  [19264/60000]\n",
      "loss: 0.733514  [25664/60000]\n",
      "loss: 0.727055  [32064/60000]\n",
      "loss: 0.810612  [38464/60000]\n",
      "loss: 0.796668  [44864/60000]\n",
      "loss: 0.804492  [51264/60000]\n",
      "loss: 0.756835  [57664/60000]\n",
      "Test Error: \n",
      " Accuracy: 72.3%, Avg loss: 0.754411 \n",
      "\n",
      "Epoch 7\n",
      "-------------------------------\n",
      "loss: 0.730263  [   64/60000]\n",
      "loss: 0.818938  [ 6464/60000]\n",
      "loss: 0.593316  [12864/60000]\n",
      "loss: 0.810589  [19264/60000]\n",
      "loss: 0.714150  [25664/60000]\n",
      "loss: 0.703267  [32064/60000]\n",
      "loss: 0.786246  [38464/60000]\n",
      "loss: 0.780682  [44864/60000]\n",
      "loss: 0.782951  [51264/60000]\n",
      "loss: 0.736829  [57664/60000]\n",
      "Test Error: \n",
      " Accuracy: 73.4%, Avg loss: 0.733015 \n",
      "\n",
      "Epoch 8\n",
      "-------------------------------\n",
      "loss: 0.698142  [   64/60000]\n",
      "loss: 0.793541  [ 6464/60000]\n",
      "loss: 0.567207  [12864/60000]\n",
      "loss: 0.790803  [19264/60000]\n",
      "loss: 0.697662  [25664/60000]\n",
      "loss: 0.683479  [32064/60000]\n",
      "loss: 0.764151  [38464/60000]\n",
      "loss: 0.766667  [44864/60000]\n",
      "loss: 0.764399  [51264/60000]\n",
      "loss: 0.718953  [57664/60000]\n",
      "Test Error: \n",
      " Accuracy: 74.1%, Avg loss: 0.714052 \n",
      "\n",
      "Epoch 9\n",
      "-------------------------------\n",
      "loss: 0.669827  [   64/60000]\n",
      "loss: 0.770423  [ 6464/60000]\n",
      "loss: 0.544465  [12864/60000]\n",
      "loss: 0.773445  [19264/60000]\n",
      "loss: 0.683455  [25664/60000]\n",
      "loss: 0.666826  [32064/60000]\n",
      "loss: 0.743775  [38464/60000]\n",
      "loss: 0.754097  [44864/60000]\n",
      "loss: 0.748117  [51264/60000]\n",
      "loss: 0.702733  [57664/60000]\n",
      "Test Error: \n",
      " Accuracy: 75.0%, Avg loss: 0.696946 \n",
      "\n",
      "Epoch 10\n",
      "-------------------------------\n",
      "loss: 0.644665  [   64/60000]\n",
      "loss: 0.749270  [ 6464/60000]\n",
      "loss: 0.524486  [12864/60000]\n",
      "loss: 0.757951  [19264/60000]\n",
      "loss: 0.670951  [25664/60000]\n",
      "loss: 0.652635  [32064/60000]\n",
      "loss: 0.724794  [38464/60000]\n",
      "loss: 0.742638  [44864/60000]\n",
      "loss: 0.733818  [51264/60000]\n",
      "loss: 0.687826  [57664/60000]\n",
      "Test Error: \n",
      " Accuracy: 75.7%, Avg loss: 0.681359 \n",
      "\n",
      "Epoch 11\n",
      "-------------------------------\n",
      "loss: 0.622161  [   64/60000]\n",
      "loss: 0.729867  [ 6464/60000]\n",
      "loss: 0.506710  [12864/60000]\n",
      "loss: 0.743810  [19264/60000]\n",
      "loss: 0.659848  [25664/60000]\n",
      "loss: 0.640531  [32064/60000]\n",
      "loss: 0.707009  [38464/60000]\n",
      "loss: 0.731998  [44864/60000]\n",
      "loss: 0.721259  [51264/60000]\n",
      "loss: 0.673991  [57664/60000]\n",
      "Test Error: \n",
      " Accuracy: 76.4%, Avg loss: 0.667046 \n",
      "\n",
      "Epoch 12\n",
      "-------------------------------\n",
      "loss: 0.601952  [   64/60000]\n",
      "loss: 0.711985  [ 6464/60000]\n",
      "loss: 0.490723  [12864/60000]\n",
      "loss: 0.730803  [19264/60000]\n",
      "loss: 0.649933  [25664/60000]\n",
      "loss: 0.630068  [32064/60000]\n",
      "loss: 0.690305  [38464/60000]\n",
      "loss: 0.722257  [44864/60000]\n",
      "loss: 0.710392  [51264/60000]\n",
      "loss: 0.661032  [57664/60000]\n",
      "Test Error: \n",
      " Accuracy: 77.1%, Avg loss: 0.653864 \n",
      "\n",
      "Epoch 13\n",
      "-------------------------------\n",
      "loss: 0.583626  [   64/60000]\n",
      "loss: 0.695425  [ 6464/60000]\n",
      "loss: 0.476259  [12864/60000]\n",
      "loss: 0.718731  [19264/60000]\n",
      "loss: 0.641062  [25664/60000]\n",
      "loss: 0.621063  [32064/60000]\n",
      "loss: 0.674761  [38464/60000]\n",
      "loss: 0.713610  [44864/60000]\n",
      "loss: 0.700933  [51264/60000]\n",
      "loss: 0.648786  [57664/60000]\n",
      "Test Error: \n",
      " Accuracy: 77.5%, Avg loss: 0.641705 \n",
      "\n",
      "Epoch 14\n",
      "-------------------------------\n",
      "loss: 0.567049  [   64/60000]\n",
      "loss: 0.680103  [ 6464/60000]\n",
      "loss: 0.463190  [12864/60000]\n",
      "loss: 0.707600  [19264/60000]\n",
      "loss: 0.633142  [25664/60000]\n",
      "loss: 0.613128  [32064/60000]\n",
      "loss: 0.660297  [38464/60000]\n",
      "loss: 0.705949  [44864/60000]\n",
      "loss: 0.692773  [51264/60000]\n",
      "loss: 0.637229  [57664/60000]\n",
      "Test Error: \n",
      " Accuracy: 78.0%, Avg loss: 0.630492 \n",
      "\n",
      "Epoch 15\n",
      "-------------------------------\n",
      "loss: 0.551925  [   64/60000]\n",
      "loss: 0.665934  [ 6464/60000]\n",
      "loss: 0.451352  [12864/60000]\n",
      "loss: 0.697269  [19264/60000]\n",
      "loss: 0.625937  [25664/60000]\n",
      "loss: 0.606144  [32064/60000]\n",
      "loss: 0.646795  [38464/60000]\n",
      "loss: 0.699298  [44864/60000]\n",
      "loss: 0.685760  [51264/60000]\n",
      "loss: 0.626313  [57664/60000]\n",
      "Test Error: \n",
      " Accuracy: 78.3%, Avg loss: 0.620134 \n",
      "\n",
      "Epoch 16\n",
      "-------------------------------\n",
      "loss: 0.538076  [   64/60000]\n",
      "loss: 0.652789  [ 6464/60000]\n",
      "loss: 0.440565  [12864/60000]\n",
      "loss: 0.687629  [19264/60000]\n",
      "loss: 0.619215  [25664/60000]\n",
      "loss: 0.599909  [32064/60000]\n",
      "loss: 0.634168  [38464/60000]\n",
      "loss: 0.693657  [44864/60000]\n",
      "loss: 0.679721  [51264/60000]\n",
      "loss: 0.615987  [57664/60000]\n",
      "Test Error: \n",
      " Accuracy: 78.8%, Avg loss: 0.610550 \n",
      "\n",
      "Epoch 17\n",
      "-------------------------------\n",
      "loss: 0.525244  [   64/60000]\n",
      "loss: 0.640532  [ 6464/60000]\n",
      "loss: 0.430687  [12864/60000]\n",
      "loss: 0.678538  [19264/60000]\n",
      "loss: 0.612758  [25664/60000]\n",
      "loss: 0.594272  [32064/60000]\n",
      "loss: 0.622375  [38464/60000]\n",
      "loss: 0.688935  [44864/60000]\n",
      "loss: 0.674624  [51264/60000]\n",
      "loss: 0.606126  [57664/60000]\n",
      "Test Error: \n",
      " Accuracy: 79.1%, Avg loss: 0.601689 \n",
      "\n",
      "Epoch 18\n",
      "-------------------------------\n",
      "loss: 0.513329  [   64/60000]\n",
      "loss: 0.629183  [ 6464/60000]\n",
      "loss: 0.421613  [12864/60000]\n",
      "loss: 0.669967  [19264/60000]\n",
      "loss: 0.606459  [25664/60000]\n",
      "loss: 0.589048  [32064/60000]\n",
      "loss: 0.611373  [38464/60000]\n",
      "loss: 0.685062  [44864/60000]\n",
      "loss: 0.670190  [51264/60000]\n",
      "loss: 0.596680  [57664/60000]\n",
      "Test Error: \n",
      " Accuracy: 79.3%, Avg loss: 0.593470 \n",
      "\n",
      "Epoch 19\n",
      "-------------------------------\n",
      "loss: 0.502306  [   64/60000]\n",
      "loss: 0.618643  [ 6464/60000]\n",
      "loss: 0.413195  [12864/60000]\n",
      "loss: 0.661799  [19264/60000]\n",
      "loss: 0.600365  [25664/60000]\n",
      "loss: 0.584061  [32064/60000]\n",
      "loss: 0.601125  [38464/60000]\n",
      "loss: 0.681907  [44864/60000]\n",
      "loss: 0.666498  [51264/60000]\n",
      "loss: 0.587532  [57664/60000]\n",
      "Test Error: \n",
      " Accuracy: 79.7%, Avg loss: 0.585856 \n",
      "\n",
      "Epoch 20\n",
      "-------------------------------\n",
      "loss: 0.492015  [   64/60000]\n",
      "loss: 0.608865  [ 6464/60000]\n",
      "loss: 0.405423  [12864/60000]\n",
      "loss: 0.654087  [19264/60000]\n",
      "loss: 0.594458  [25664/60000]\n",
      "loss: 0.579361  [32064/60000]\n",
      "loss: 0.591620  [38464/60000]\n",
      "loss: 0.679272  [44864/60000]\n",
      "loss: 0.663348  [51264/60000]\n",
      "loss: 0.578709  [57664/60000]\n",
      "Test Error: \n",
      " Accuracy: 80.1%, Avg loss: 0.578802 \n",
      "\n",
      "Done!\n"
     ]
    }
   ],
   "source": [
    "epochs = 20\n",
    "for t in range(epochs):\n",
    "    print(f\"Epoch {t+1}\\n-------------------------------\")\n",
    "    train(train_dataloader, model, loss_fn, optimizer)\n",
    "    test(test_dataloader, model, loss_fn)\n",
    "print(\"Done!\")"
   ]
  },
  {
   "cell_type": "markdown",
   "id": "04882950",
   "metadata": {},
   "source": [
    "#Saving Models"
   ]
  },
  {
   "cell_type": "code",
   "execution_count": 15,
   "id": "f7491678",
   "metadata": {},
   "outputs": [
    {
     "name": "stdout",
     "output_type": "stream",
     "text": [
      "Saved PyTorch Model State to model.pth\n"
     ]
    }
   ],
   "source": [
    "torch.save(model.state_dict(), \"model.pth\")\n",
    "print(\"Saved PyTorch Model State to model.pth\")"
   ]
  },
  {
   "cell_type": "markdown",
   "id": "dd580d7a",
   "metadata": {},
   "source": [
    "#Loading Models"
   ]
  },
  {
   "cell_type": "markdown",
   "id": "6ec163b2",
   "metadata": {},
   "source": [
    "The process for loading a model includes re-creating the model structure and loading the state dictionary into it."
   ]
  },
  {
   "cell_type": "code",
   "execution_count": 16,
   "id": "e3157487",
   "metadata": {},
   "outputs": [
    {
     "data": {
      "text/plain": [
       "<All keys matched successfully>"
      ]
     },
     "execution_count": 16,
     "metadata": {},
     "output_type": "execute_result"
    }
   ],
   "source": [
    "model = NeuralNetwork().to(device)\n",
    "model.load_state_dict(torch.load(\"model.pth\"))"
   ]
  },
  {
   "cell_type": "code",
   "execution_count": null,
   "id": "9348f7d4",
   "metadata": {},
   "outputs": [],
   "source": [
    "Using the models to make predictions."
   ]
  },
  {
   "cell_type": "code",
   "execution_count": 18,
   "id": "41a16032",
   "metadata": {},
   "outputs": [
    {
     "name": "stdout",
     "output_type": "stream",
     "text": [
      "Predicted: \"Pullover\", Actual: \"Ankle boot\"\n"
     ]
    }
   ],
   "source": [
    "classes = [\n",
    "    \"T-shirt/top\",\n",
    "    \"Trouser\",\n",
    "    \"Pullover\",\n",
    "    \"Dress\",\n",
    "    \"Coat\",\n",
    "    \"Sandal\",\n",
    "    \"Shirt\",\n",
    "    \"Sneaker\",\n",
    "    \"Bag\",\n",
    "    \"Ankle boot\",\n",
    "]\n",
    "\n",
    "model.eval()\n",
    "x, y = test_data[0][0], test_data[0][1]\n",
    "with torch.no_grad():\n",
    "    x = x.to(device)\n",
    "    pred = model(x)\n",
    "    predicted, actual = classes[pred[0].argmax(0)], classes[y]\n",
    "    print(f'Predicted: \"{predicted}\", Actual: \"{actual}\"')"
   ]
  },
  {
   "cell_type": "code",
   "execution_count": null,
   "id": "601c411f",
   "metadata": {},
   "outputs": [],
   "source": []
  }
 ],
 "metadata": {
  "kernelspec": {
   "display_name": "Pytorch",
   "language": "python",
   "name": "myenv"
  },
  "language_info": {
   "codemirror_mode": {
    "name": "ipython",
    "version": 3
   },
   "file_extension": ".py",
   "mimetype": "text/x-python",
   "name": "python",
   "nbconvert_exporter": "python",
   "pygments_lexer": "ipython3",
   "version": "3.10.4"
  }
 },
 "nbformat": 4,
 "nbformat_minor": 5
}
